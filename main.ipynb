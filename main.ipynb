{
 "cells": [
  {
   "cell_type": "code",
   "execution_count": 1,
   "metadata": {},
   "outputs": [],
   "source": [
    "import requests\n",
    "import secret"
   ]
  },
  {
   "cell_type": "code",
   "execution_count": 12,
   "metadata": {},
   "outputs": [],
   "source": [
    "base_url = 'https://api.notion.com/v1/'\n",
    "databese_id = '4e220c8009894bc88e507f6de5c011f2'"
   ]
  },
  {
   "cell_type": "code",
   "execution_count": 13,
   "metadata": {},
   "outputs": [],
   "source": [
    "header = {'Authorization':'Bearer ' + secret.KEY, 'Notion-Version': '2021-08-16'}"
   ]
  },
  {
   "cell_type": "code",
   "execution_count": 38,
   "metadata": {},
   "outputs": [],
   "source": [
    "query =  {\"filter\": {\"property\": \"カテゴリー\", \"select\": {\"name\": \"レコード\"}}}\n"
   ]
  },
  {
   "cell_type": "code",
   "execution_count": 39,
   "metadata": {},
   "outputs": [],
   "source": [
    "def dictionary_decoder(x):\n",
    "    return [i for i in x]"
   ]
  },
  {
   "cell_type": "code",
   "execution_count": 54,
   "metadata": {},
   "outputs": [
    {
     "data": {
      "text/plain": [
       "<Response [200]>"
      ]
     },
     "execution_count": 54,
     "metadata": {},
     "output_type": "execute_result"
    }
   ],
   "source": [
    "response = requests.get(base_url + 'databases/' + databese_id, headers=header)\n",
    "response"
   ]
  },
  {
   "cell_type": "code",
   "execution_count": 65,
   "metadata": {},
   "outputs": [
    {
     "data": {
      "text/plain": [
       "['社', '長']"
      ]
     },
     "execution_count": 65,
     "metadata": {},
     "output_type": "execute_result"
    }
   ],
   "source": [
    "dictionary_decoder(response.json()['properties']['相手']['select']['options'][0]['name'])"
   ]
  },
  {
   "cell_type": "code",
   "execution_count": null,
   "metadata": {},
   "outputs": [],
   "source": []
  },
  {
   "cell_type": "code",
   "execution_count": null,
   "metadata": {},
   "outputs": [],
   "source": [
    "curl 'https://api.notion.com/v1/databases/668d797c-76fa-4934-9b05-ad288df2d136' \\\n",
    "  -H 'Authorization: Bearer '\"$NOTION_API_KEY\"'' \\\n",
    "  -H 'Notion-Version: 2021-08-16'\n",
    "\n",
    "4e220c8009894bc88e507f6de5c011f2"
   ]
  },
  {
   "cell_type": "code",
   "execution_count": null,
   "metadata": {},
   "outputs": [],
   "source": [
    "{'object': 'database', 'id': '4e220c80-0989-4bc8-8e50-7f6de5c011f2', 'cover': None, 'icon': {'type': 'emoji', 'emoji': '☀️'}, 'created_time': '2021-12-10T02:49:00.000Z', 'last_edited_time': '2021-12-10T23:08:00.000Z', 'title': [{'type': 'text', 'text': {'content': 'Daily task & record 2021', 'link': None}, 'annotations': {'bold': False, 'italic': False, 'strikethrough': False, 'underline': False, 'code': False, 'color': 'default'}, 'plain_text': 'Daily task & record 2021', 'href': None}, {'type': 'text', 'text': {'content': 'のコピー', 'link': None}, 'annotations': {'bold': False, 'italic': False, 'strikethrough': False, 'underline': False, 'code': False, 'color': 'default'}, 'plain_text': 'のコピー', 'href': None}], 'properties': {'先週': {'id': 'Ch~q', 'name': '先週', 'type': 'formula', 'formula': {'expression': 'formatDate(prop(\"日時\"), \"wy\") == formatDate(dateSubtract(now(), 1, \"weeks\"), \"wy\")'}}, '相手': {'id': 'KRnN', 'name': '相手', 'type': 'select', 'select': {'options': [{'id': '1c0ed6d1-914b-42e7-a2b1-d4026685009b', 'name': '社長', 'color': 'yellow'}, {'id': '1a0b992c-1272-487f-a34f-8adbba52bc47', 'name': '本部長', 'color': 'orange'}, {'id': '2d485073-d91f-4f74-8f6d-2380e5038a72', 'name': '橘', 'color': 'red'}, {'id': 'ee71cf20-ae56-408c-8260-9a1171ed4b96', 'name': '柳', 'color': 'pink'}, {'id': '5e09ef72-5eb8-4150-8a74-f678feff759a', 'name': '増泉', 'color': 'green'}, {'id': '816af8cf-0926-4717-b784-898d08183a34', 'name': 'ホコ町', 'color': 'gray'}, {'id': 'd8bc45d6-e55e-475e-a98b-5a1665a8c796', 'name': '小松', 'color': 'red'}, {'id': 'db38f396-1102-459c-9b24-8cf41d67613b', 'name': 'ゆいの里', 'color': 'default'}, {'id': '8b9c42f4-1bf9-4ccf-aef5-fdacb7dfed2e', 'name': '入江', 'color': 'pink'}, {'id': '8946d966-3572-440d-b691-69b9509197a9', 'name': '中村町', 'color': 'yellow'}, {'id': '13f75ae1-fd32-45f9-9a08-3fcbc26b427c', 'name': '戸板', 'color': 'red'}, {'id': '1a4835ac-eabe-4c5c-8bfb-2ab3ced0f683', 'name': '扇が丘', 'color': 'pink'}, {'id': 'af32f631-0cd9-4eb5-bce0-26f303108e08', 'name': '園町', 'color': 'brown'}, {'id': '83ba2450-db43-4b8c-9dd6-7f35bb0b3550', 'name': '土田労務士', 'color': 'blue'}, {'id': '3504d8bd-7161-40d3-8b65-818e9f806681', 'name': 'セコム', 'color': 'gray'}, {'id': 'f5663ef1-8f36-4196-b7ce-d05ec15c17e1', 'name': 'セコム_橋本', 'color': 'purple'}, {'id': '25bd71d9-0d61-40be-8f43-d16e23665587', 'name': 'プルデン_小玉', 'color': 'green'}, {'id': '21679dab-129b-4c0a-a888-903728a431b3', 'name': '福井銀行_小玉', 'color': 'pink'}, {'id': '44cf3b22-f724-43f7-b369-7498b3e9d651', 'name': '下川会計_岩見', 'color': 'purple'}, {'id': '9ab61039-ec3d-446f-991e-1bd250ab888c', 'name': 'スペシス_田中', 'color': 'red'}, {'id': '9f246766-cd73-49b3-a525-817db10ae6bf', 'name': '窪田電気管理', 'color': 'gray'}, {'id': 'cb24f038-b234-4c73-97ab-c8dfcee6aad8', 'name': 'アーバンホーム', 'color': 'default'}, {'id': 'a8708ed4-6135-4ba1-a8b6-53d85ca9bab9', 'name': '本部システム', 'color': 'blue'}, {'id': 'd9059258-4c55-4d45-b601-6155a0fd1e7e', 'name': '吉村建設', 'color': 'brown'}, {'id': 'a2ab2f8b-cfc6-4e28-9dd7-25942705232f', 'name': '富士フイルムBIJ', 'color': 'orange'}, {'id': '1da63f7c-eb98-4015-945f-e17a2d9cc022', 'name': '明治安田生命_畝村', 'color': 'brown'}, {'id': 'b885000d-9aed-4282-ab5f-4724574d6a1a', 'name': '椎木', 'color': 'brown'}, {'id': '8aee737c-1e2a-4b03-a820-5995f445bfe5', 'name': '下川会計_東', 'color': 'red'}, {'id': 'edaab733-9c43-4bfb-b1c3-d2ab0ac2c44c', 'name': '下川会計_中野', 'color': 'pink'}, {'id': '6990db3f-28bb-4a15-a327-ea3600400fd0', 'name': 'CCイノベーション_吉田', 'color': 'yellow'}, {'id': '64998d81-a094-41ea-9c48-f1f276669993', 'name': 'イワイ_岸本', 'color': 'red'}, {'id': '0f80315d-9e94-421d-954b-83deee6566e1', 'name': '八日市_母', 'color': 'orange'}, {'id': '3b8081a7-f027-495a-a432-c957c3bc8950', 'name': 'まほろば_小山', 'color': 'purple'}, {'id': 'a068aa18-a8f3-4f89-806f-7b8083b5cf64', 'name': '金沢市_介護保険課', 'color': 'gray'}, {'id': '7da99784-aad3-4ed0-91e8-d1a19856682c', 'name': '石川県_長寿社会課', 'color': 'purple'}, {'id': '1920ba49-c01d-45fd-bf3f-fbd912c50514', 'name': '富山銀行_中﨑', 'color': 'gray'}, {'id': 'ed9f6bc2-a807-44f1-a43d-e0eee902ae15', 'name': '退職した下重絵理子', 'color': 'purple'}, {'id': '1ac51967-ec09-4c5a-93ae-8a1aa78312ff', 'name': '北陸銀行', 'color': 'brown'}, {'id': '55bae3b7-a3f7-44d1-bf52-a9f8119e4cc9', 'name': 'セコム_土田', 'color': 'brown'}, {'id': '25a0640e-0178-41bf-80a4-6e516567bb2a', 'name': '明治安田生命_武隈', 'color': 'pink'}, {'id': 'a003389a-5594-40f5-a719-ad0573038267', 'name': 'シャープファイナンス', 'color': 'yellow'}, {'id': '6f414744-1582-42a4-9129-bf4bd10bbd50', 'name': '金沢市_市民税課', 'color': 'blue'}, {'id': 'aa65eb50-3fbe-427a-9e36-8d3d501c9a9c', 'name': 'アーバンホーム_吉田', 'color': 'purple'}, {'id': 'de915482-22f9-4e1e-b6f9-7046582f21b6', 'name': '英善地所', 'color': 'brown'}, {'id': 'e2b45db8-ebf6-4032-abed-2e3ee3ebd9e1', 'name': '中北薬品_堀田', 'color': 'pink'}, {'id': '93ed7d15-adaf-4e22-b8b9-8c966b811357', 'name': '自分', 'color': 'red'}, {'id': '8f3fa6de-4549-4125-b21e-6ea596ff90f4', 'name': 'みづほ工業_立中', 'color': 'brown'}, {'id': 'ec97dbbe-2a9e-4c5d-9a4e-efbf5e28bc41', 'name': '5階_ヒューマンウィズ', 'color': 'default'}, {'id': 'cd4f0127-fa0b-4f13-8155-98dc9ce3521c', 'name': 'NTT', 'color': 'default'}]}}, '完了表示': {'id': 'MyK%3E', 'name': '完了表示', 'type': 'formula', 'formula': {'expression': 'if(prop(\"完了\"), concat(\"✅\", \" \", formatDate(prop(\"最終更新日時\"), \"HH:mm\")), \"\")'}}, 'カテゴリー': {'id': 'NBPu', 'name': 'カテゴリー', 'type': 'select', 'select': {'options': [{'id': '79014272-9d99-4941-b075-cc0de7c24e23', 'name': 'タスク', 'color': 'red'}, {'id': '0839da96-9397-4742-ac47-7f444c6468aa', 'name': 'レコード', 'color': 'yellow'}]}}, '今週': {'id': 'RqCk', 'name': '今週', 'type': 'formula', 'formula': {'expression': 'formatDate(prop(\"日時\"), \"wy\") == formatDate(now(), \"wy\")'}}, '最終更新日時': {'id': 'Z%7CSr', 'name': '最終更新日時', 'type': 'last_edited_time', 'last_edited_time': {}}, '時間＋相手': {'id': '%5D%5D~U', 'name': '時間＋相手', 'type': 'formula', 'formula': {'expression': 'if(empty(prop(\"相手\")), \"\", if(and(contains(formatDate(prop(\"日時\"), \"HH:mm\"), \"00:00\"), empty(prop(\"Work tasks table\"))), concat(prop(\"相手\"), \"\\u3000\", prop(\"手段\")), if(and(not contains(formatDate(prop(\"日時\"), \"HH:mm\"), \"00:00\"), empty(prop(\"Work tasks table\"))), concat(formatDate(prop(\"日時\"), \"HH:mm\"), \" \", prop(\"相手\"), \"\\u3000\", prop(\"手段\")), concat(formatDate(prop(\"日時\"), \"HH:mm\"), \" \", prop(\"相手\"), \"\\u3000\", prop(\"手段\"), \"\\u3000\", \"🔎\"))))'}}, '完了': {'id': 'huMX', 'name': '完了', 'type': 'checkbox', 'checkbox': {}}, '日時': {'id': 's%3DXh', 'name': '日時', 'type': 'date', 'date': {}}, '手段': {'id': 'yX~v', 'name': '手段', 'type': 'select', 'select': {'options': [{'id': '90b320ae-3dc7-44cb-a351-544600d57ad6', 'name': '📞⇦', 'color': 'default'}, {'id': '355481c2-f622-4256-ad30-4c19015ae728', 'name': '📞⇨', 'color': 'default'}, {'id': 'c2bac0f8-2670-433c-8217-de48c78bc653', 'name': '📞↪', 'color': 'default'}, {'id': '7255259d-d85b-470a-a620-a56e25fc86de', 'name': '🏢⇦', 'color': 'default'}, {'id': '0d23d603-5619-40ca-82d8-719bb11651f1', 'name': '📧⇦', 'color': 'default'}, {'id': '183bc2ae-7548-4fa1-a306-5dfebccf2283', 'name': '📧⇨', 'color': 'green'}, {'id': '3d9483e7-d06f-41d1-82d5-47e557afa2ac', 'name': '👨\\u200d💼', 'color': 'default'}]}}, '内容': {'id': '%7CRHZ', 'name': '内容', 'type': 'rich_text', 'rich_text': {}}, '名前': {'id': 'title', 'name': '名前', 'type': 'title', 'title': {}}}, 'parent': {'type': 'workspace', 'workspace': True}, 'url': 'https://www.notion.so/4e220c8009894bc88e507f6de5c011f2'}"
   ]
  }
 ],
 "metadata": {
  "interpreter": {
   "hash": "949777d72b0d2535278d3dc13498b2535136f6dfe0678499012e853ee9abcab1"
  },
  "kernelspec": {
   "display_name": "Python 3.9.9 64-bit",
   "language": "python",
   "name": "python3"
  },
  "language_info": {
   "codemirror_mode": {
    "name": "ipython",
    "version": 3
   },
   "file_extension": ".py",
   "mimetype": "text/x-python",
   "name": "python",
   "nbconvert_exporter": "python",
   "pygments_lexer": "ipython3",
   "version": "3.9.9"
  },
  "orig_nbformat": 4
 },
 "nbformat": 4,
 "nbformat_minor": 2
}
